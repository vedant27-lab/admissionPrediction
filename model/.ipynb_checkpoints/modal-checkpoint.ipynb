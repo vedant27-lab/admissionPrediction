{
 "cells": [
  {
   "cell_type": "code",
   "execution_count": null,
   "id": "b5eca881-3391-48e6-bde9-eec6f0b54169",
   "metadata": {},
   "outputs": [],
   "source": []
  }
 ],
 "metadata": {
  "kernelspec": {
   "display_name": "Python 3 (ipykernel)",
   "language": "python",
   "name": "python3"
  },
  "language_info": {
   "name": ""
  }
 },
 "nbformat": 4,
 "nbformat_minor": 5
}
