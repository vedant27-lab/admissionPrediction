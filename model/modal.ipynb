{
 "cells": [
  {
   "cell_type": "code",
   "execution_count": 1,
   "id": "b5eca881-3391-48e6-bde9-eec6f0b54169",
   "metadata": {},
   "outputs": [],
   "source": [
    "import pandas as pd\n",
    "import numpy as np\n",
    "import matplotlib.pyplot as plt\n",
    "import seaborn as sns\n",
    "from sklearn.model_selection import train_test_split\n",
    "from sklearn.preprocessing import StandardScaler\n",
    "from sklearn.linear_model import LinearRegression\n",
    "from sklearn.metrics import mean_squared_error, r2_score\n"
   ]
  },
  {
   "cell_type": "code",
   "execution_count": 13,
   "id": "6c24fb5d-356f-49fc-8dac-10a6d7c10b04",
   "metadata": {},
   "outputs": [
    {
     "data": {
      "text/plain": [
       "Index(['Year', '10th Marks', '12th Marks', '12th Division', 'AIEEE Rank',\n",
       "       'College'],\n",
       "      dtype='object')"
      ]
     },
     "execution_count": 13,
     "metadata": {},
     "output_type": "execute_result"
    }
   ],
   "source": [
    "df = pd.read_csv('college_admission_prediction.csv') #Reading sample dataset to train the modal.\n",
    "df.head()\n",
    "df.columns"
   ]
  },
  {
   "cell_type": "code",
   "execution_count": 14,
   "id": "1a966e64-ede3-49cd-8a91-be6b314af6fd",
   "metadata": {},
   "outputs": [
    {
     "data": {
      "text/plain": [
       "<bound method DataFrame.info of       Year  10th Marks  12th Marks  12th Division  AIEEE Rank  \\\n",
       "0     2019          90          89              3          98   \n",
       "1     2015          95          92              2         100   \n",
       "2     2018          91          80              6         260   \n",
       "3     2017          88          85              2         222   \n",
       "4     2016          89          84              1         600   \n",
       "...    ...         ...         ...            ...         ...   \n",
       "999   2016          86          87              6        1533   \n",
       "1000  2018          80          89              6         854   \n",
       "1001  2018          86          87              8        1232   \n",
       "1002  2019          78          85             11        1730   \n",
       "1003  2017          85          81              5        1757   \n",
       "\n",
       "               College  \n",
       "0           IIT Bombay  \n",
       "1            IIT delhi  \n",
       "2           IIT kanpur  \n",
       "3        IIT kharagpur  \n",
       "4         IIT guwahati  \n",
       "...                ...  \n",
       "999         IIT indore  \n",
       "1000  Netaji Subhas IT  \n",
       "1001        NIT trichy  \n",
       "1002        IIT indore  \n",
       "1003       BITS pilani  \n",
       "\n",
       "[1004 rows x 6 columns]>"
      ]
     },
     "execution_count": 14,
     "metadata": {},
     "output_type": "execute_result"
    }
   ],
   "source": [
    "#Checking null values in dataset.\n",
    "df.isnull().sum()\n",
    "df.info"
   ]
  },
  {
   "cell_type": "code",
   "execution_count": 15,
   "id": "b7ba1bff-37be-499c-a7f4-8d8ec2f0088a",
   "metadata": {},
   "outputs": [
    {
     "data": {
      "text/plain": [
       "(1004, 6)"
      ]
     },
     "execution_count": 15,
     "metadata": {},
     "output_type": "execute_result"
    }
   ],
   "source": [
    "df.shape"
   ]
  },
  {
   "cell_type": "code",
   "execution_count": 17,
   "id": "d084a516-7802-4a57-8172-0227c873a0f0",
   "metadata": {},
   "outputs": [],
   "source": [
    "X = df.drop(columns=[\"College\"])  # Features (independent variables)\n",
    "y = df[\"College\"]  # Target (dependent variable)"
   ]
  },
  {
   "cell_type": "code",
   "execution_count": 18,
   "id": "64368d05-b9c6-4214-a0c3-4ecdde7c9f2b",
   "metadata": {},
   "outputs": [],
   "source": [
    "#Convert categorical target variable into numerical labels\n",
    "from sklearn.preprocessing import LabelEncoder\n",
    "le = LabelEncoder()\n",
    "y_encoded = le.fit_transform(y)  #Convert College names to numbers"
   ]
  },
  {
   "cell_type": "code",
   "execution_count": 19,
   "id": "eb73f8a5-bbfc-4f49-a3fc-2091a61dcf8f",
   "metadata": {},
   "outputs": [],
   "source": [
    "from sklearn.model_selection import train_test_split\n",
    "\n",
    "# Split data into training and testing sets\n",
    "X_train, X_test, y_train, y_test = train_test_split(X, y_encoded, test_size=0.2, random_state=42)\n"
   ]
  },
  {
   "cell_type": "code",
   "execution_count": 20,
   "id": "dbd4efd2-d614-4ab5-946b-f9f8eac0b939",
   "metadata": {},
   "outputs": [],
   "source": [
    "from sklearn.ensemble import RandomForestClassifier\n",
    "\n",
    "#Initialize and train the model\n",
    "model = RandomForestClassifier(n_estimators=100, random_state=42)\n",
    "model.fit(X_train, y_train)\n",
    "\n",
    "#Make predictions\n",
    "y_pred = model.predict(X_test)\n"
   ]
  },
  {
   "cell_type": "code",
   "execution_count": 21,
   "id": "765d1b72-79ca-4d29-b053-1e25cf54a3f1",
   "metadata": {},
   "outputs": [
    {
     "name": "stdout",
     "output_type": "stream",
     "text": [
      "Model Accuracy: 0.93\n"
     ]
    }
   ],
   "source": [
    "from sklearn.metrics import accuracy_score\n",
    "\n",
    "#Calculate accuracy\n",
    "accuracy = accuracy_score(y_test, y_pred)\n",
    "print(f\"Model Accuracy: {accuracy:.2f}\")\n"
   ]
  },
  {
   "cell_type": "code",
   "execution_count": 23,
   "id": "41db73af-d740-4e2d-af37-c6da341faef4",
   "metadata": {},
   "outputs": [
    {
     "name": "stdin",
     "output_type": "stream",
     "text": [
      "Enter Year of Admission:  2019\n",
      "Enter 10th Marks (out of 100):  80\n",
      "Enter 12th Marks (out of 100):  71\n",
      "Enter 12th Division (1 for First, 2 for Second, etc.):  4\n",
      "Enter AIEEE Rank:  2000\n"
     ]
    },
    {
     "name": "stdout",
     "output_type": "stream",
     "text": [
      "\n",
      "Predicted College: BITS pilani\n"
     ]
    },
    {
     "name": "stderr",
     "output_type": "stream",
     "text": [
      "E:\\Admission Prediction\\admissionPrediction\\model\\Lib\\site-packages\\sklearn\\utils\\validation.py:2739: UserWarning: X does not have valid feature names, but RandomForestClassifier was fitted with feature names\n",
      "  warnings.warn(\n"
     ]
    }
   ],
   "source": [
    "import numpy as np\n",
    "\n",
    "# Function to take user input\n",
    "def get_user_input():\n",
    "    year = int(input(\"Enter Year of Admission: \"))\n",
    "    tenth_marks = float(input(\"Enter 10th Marks (out of 100): \"))\n",
    "    twelfth_marks = float(input(\"Enter 12th Marks (out of 100): \"))\n",
    "    twelfth_div = int(input(\"Enter 12th Division (1 for First, 2 for Second, etc.): \"))\n",
    "    aieee_rank = int(input(\"Enter AIEEE Rank: \"))\n",
    "\n",
    "    return [[year, tenth_marks, twelfth_marks, twelfth_div, aieee_rank]]\n",
    "\n",
    "# Load saved model\n",
    "import joblib\n",
    "model = joblib.load(\"admission_model.pkl\")\n",
    "le = joblib.load(\"label_encoder.pkl\")\n",
    "\n",
    "# Get user input\n",
    "user_data = get_user_input()\n",
    "\n",
    "# Predict the college\n",
    "predicted_college_index = model.predict(user_data)\n",
    "predicted_college = le.inverse_transform(predicted_college_index)\n",
    "\n",
    "print(f\"\\nPredicted College: {predicted_college[0]}\")\n"
   ]
  },
  {
   "cell_type": "code",
   "execution_count": null,
   "id": "69ae5ca6-1125-4a4b-9d5d-43e1f4905ee5",
   "metadata": {},
   "outputs": [],
   "source": []
  }
 ],
 "metadata": {
  "kernelspec": {
   "display_name": "Python 3 (ipykernel)",
   "language": "python",
   "name": "python3"
  },
  "language_info": {
   "codemirror_mode": {
    "name": "ipython",
    "version": 3
   },
   "file_extension": ".py",
   "mimetype": "text/x-python",
   "name": "python",
   "nbconvert_exporter": "python",
   "pygments_lexer": "ipython3",
   "version": "3.12.6"
  }
 },
 "nbformat": 4,
 "nbformat_minor": 5
}
